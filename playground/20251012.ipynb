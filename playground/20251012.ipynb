{
 "cells": [
  {
   "cell_type": "code",
   "execution_count": 147,
   "id": "f758a0a3",
   "metadata": {},
   "outputs": [
    {
     "name": "stdout",
     "output_type": "stream",
     "text": [
      "The autoreload extension is already loaded. To reload it, use:\n",
      "  %reload_ext autoreload\n"
     ]
    }
   ],
   "source": [
    "%load_ext autoreload\n",
    "%autoreload 2"
   ]
  },
  {
   "cell_type": "code",
   "execution_count": 148,
   "id": "97f2dc69",
   "metadata": {},
   "outputs": [
    {
     "name": "stdout",
     "output_type": "stream",
     "text": [
      "True\n"
     ]
    },
    {
     "data": {
      "text/plain": [
       "0"
      ]
     },
     "execution_count": 148,
     "metadata": {},
     "output_type": "execute_result"
    }
   ],
   "source": [
    "import torch\n",
    "# check if pytorch is using gpu\n",
    "print(torch.cuda.is_available())\n",
    "torch.cuda.current_device()"
   ]
  },
  {
   "cell_type": "code",
   "execution_count": 149,
   "id": "0439f349",
   "metadata": {},
   "outputs": [],
   "source": [
    "import numpy as np"
   ]
  },
  {
   "cell_type": "code",
   "execution_count": 150,
   "id": "a057328a",
   "metadata": {},
   "outputs": [],
   "source": [
    "import sys\n",
    "sys.path.append('..')"
   ]
  },
  {
   "cell_type": "markdown",
   "id": "d2e6cd58",
   "metadata": {},
   "source": [
    "# prepare data"
   ]
  },
  {
   "cell_type": "code",
   "execution_count": 151,
   "id": "6a4d3c8e",
   "metadata": {},
   "outputs": [],
   "source": [
    "from lib.util.pricing import bs_euro_vanilla_call, delta_hedge_bs_euro_vanilla_call"
   ]
  },
  {
   "cell_type": "code",
   "execution_count": 152,
   "id": "e160a073",
   "metadata": {},
   "outputs": [],
   "source": [
    "def get_Xy(n: int):\n",
    "    # S = np.exp(np.random.rand(n)  * 5 - 1)\n",
    "    K = np.exp(np.random.rand(n)  * 5 - 1)\n",
    "    T = np.random.rand(n) * 1.9 + 0.1\n",
    "    sigma = np.random.rand(n) * 0.9 + 0.1\n",
    "    r = np.random.rand(n) * 0.05\n",
    "\n",
    "    \n",
    "    dplus = np.random.randn(n) * 1.5\n",
    "    S = K * np.exp(dplus * sigma * np.sqrt(T) - (r + 0.5 * sigma**2) * T)\n",
    "    \n",
    "\n",
    "    X = np.stack([S, K, T, r, sigma], axis=1)\n",
    "\n",
    "    y = bs_euro_vanilla_call(S, K, T, r, sigma)\n",
    "    delta = delta_hedge_bs_euro_vanilla_call(S, K, T, r, sigma)\n",
    "    Y = np.stack([y, delta], axis=1)\n",
    "\n",
    "    return torch.tensor(X, dtype=torch.float32), torch.tensor(Y, dtype=torch.float32)"
   ]
  },
  {
   "cell_type": "code",
   "execution_count": 153,
   "id": "ca0fecec",
   "metadata": {},
   "outputs": [],
   "source": [
    "X_train, y_train = get_Xy(100_000)"
   ]
  },
  {
   "cell_type": "code",
   "execution_count": 154,
   "id": "44ba82fd",
   "metadata": {},
   "outputs": [
    {
     "data": {
      "text/plain": [
       "tensor([[1.1555e+00, 1.5253e+00, 2.5597e-01, 1.0156e-02, 4.2825e-01],\n",
       "        [5.3115e-01, 9.0880e-01, 1.5563e-01, 1.9669e-02, 8.3875e-01],\n",
       "        [6.5303e+00, 5.8404e+00, 1.5453e-01, 4.1516e-02, 6.8708e-01],\n",
       "        ...,\n",
       "        [5.1340e-01, 2.1113e+00, 1.1091e+00, 2.6021e-02, 6.6366e-01],\n",
       "        [4.8327e+00, 1.0495e+00, 7.1796e-01, 2.9328e-03, 7.1781e-01],\n",
       "        [5.4375e+01, 1.8205e+01, 8.3157e-01, 1.8677e-02, 6.3373e-01]])"
      ]
     },
     "execution_count": 154,
     "metadata": {},
     "output_type": "execute_result"
    }
   ],
   "source": [
    "X_train"
   ]
  },
  {
   "cell_type": "code",
   "execution_count": 155,
   "id": "1dd133c2",
   "metadata": {},
   "outputs": [
    {
     "data": {
      "text/plain": [
       "tensor([[1.3900e-02, 1.2283e-01],\n",
       "        [5.1102e-03, 7.3741e-02],\n",
       "        [1.0879e+00, 7.1640e-01],\n",
       "        ...,\n",
       "        [6.0939e-03, 5.1299e-02],\n",
       "        [3.7879e+00, 9.9759e-01],\n",
       "        [3.6634e+01, 9.8642e-01]])"
      ]
     },
     "execution_count": 155,
     "metadata": {},
     "output_type": "execute_result"
    }
   ],
   "source": [
    "y_train"
   ]
  },
  {
   "cell_type": "code",
   "execution_count": 156,
   "id": "6afa2aa1",
   "metadata": {},
   "outputs": [
    {
     "data": {
      "text/html": [
       "<div>\n",
       "<style scoped>\n",
       "    .dataframe tbody tr th:only-of-type {\n",
       "        vertical-align: middle;\n",
       "    }\n",
       "\n",
       "    .dataframe tbody tr th {\n",
       "        vertical-align: top;\n",
       "    }\n",
       "\n",
       "    .dataframe thead th {\n",
       "        text-align: right;\n",
       "    }\n",
       "</style>\n",
       "<table border=\"1\" class=\"dataframe\">\n",
       "  <thead>\n",
       "    <tr style=\"text-align: right;\">\n",
       "      <th></th>\n",
       "      <th>0</th>\n",
       "      <th>1</th>\n",
       "    </tr>\n",
       "  </thead>\n",
       "  <tbody>\n",
       "    <tr>\n",
       "      <th>count</th>\n",
       "      <td>1.000000e+05</td>\n",
       "      <td>1.000000e+05</td>\n",
       "    </tr>\n",
       "    <tr>\n",
       "      <th>mean</th>\n",
       "      <td>6.527546e+00</td>\n",
       "      <td>4.997172e-01</td>\n",
       "    </tr>\n",
       "    <tr>\n",
       "      <th>std</th>\n",
       "      <td>5.428312e+01</td>\n",
       "      <td>3.487997e-01</td>\n",
       "    </tr>\n",
       "    <tr>\n",
       "      <th>min</th>\n",
       "      <td>7.930325e-14</td>\n",
       "      <td>1.064424e-11</td>\n",
       "    </tr>\n",
       "    <tr>\n",
       "      <th>25%</th>\n",
       "      <td>4.174586e-02</td>\n",
       "      <td>1.558985e-01</td>\n",
       "    </tr>\n",
       "    <tr>\n",
       "      <th>50%</th>\n",
       "      <td>3.692100e-01</td>\n",
       "      <td>4.987199e-01</td>\n",
       "    </tr>\n",
       "    <tr>\n",
       "      <th>75%</th>\n",
       "      <td>2.422578e+00</td>\n",
       "      <td>8.439360e-01</td>\n",
       "    </tr>\n",
       "    <tr>\n",
       "      <th>max</th>\n",
       "      <td>9.281705e+03</td>\n",
       "      <td>1.000000e+00</td>\n",
       "    </tr>\n",
       "  </tbody>\n",
       "</table>\n",
       "</div>"
      ],
      "text/plain": [
       "                  0             1\n",
       "count  1.000000e+05  1.000000e+05\n",
       "mean   6.527546e+00  4.997172e-01\n",
       "std    5.428312e+01  3.487997e-01\n",
       "min    7.930325e-14  1.064424e-11\n",
       "25%    4.174586e-02  1.558985e-01\n",
       "50%    3.692100e-01  4.987199e-01\n",
       "75%    2.422578e+00  8.439360e-01\n",
       "max    9.281705e+03  1.000000e+00"
      ]
     },
     "execution_count": 156,
     "metadata": {},
     "output_type": "execute_result"
    }
   ],
   "source": [
    "import pandas as pd\n",
    "\n",
    "\n",
    "pd.DataFrame(y_train.numpy()).describe()"
   ]
  },
  {
   "cell_type": "code",
   "execution_count": 157,
   "id": "fe28afff",
   "metadata": {},
   "outputs": [
    {
     "data": {
      "text/plain": [
       "tensor(0.0139)"
      ]
     },
     "execution_count": 157,
     "metadata": {},
     "output_type": "execute_result"
    }
   ],
   "source": [
    "y_train[0, 0]"
   ]
  },
  {
   "cell_type": "code",
   "execution_count": 158,
   "id": "30d11648",
   "metadata": {},
   "outputs": [],
   "source": [
    "X_test, y_test = get_Xy(100)"
   ]
  },
  {
   "cell_type": "markdown",
   "id": "11faef54",
   "metadata": {},
   "source": [
    "# a naive resnet testing"
   ]
  },
  {
   "cell_type": "code",
   "execution_count": 159,
   "id": "4cbaeb56",
   "metadata": {},
   "outputs": [],
   "source": [
    "import torch\n",
    "import torch.nn.functional as Func\n",
    "from torch import nn\n",
    "import numpy as np\n",
    "\n",
    "class BSNet(nn.Module):\n",
    "    def __init__(self, input_dim, hidden_dim, activation=\"elu\", groups=2, layer_per_group=2):\n",
    "        super(BSNet, self).__init__()\n",
    "        self.input_dim = input_dim\n",
    "        self.hidden_dim = hidden_dim\n",
    "\n",
    "        self.preprocess = nn.Linear(input_dim, hidden_dim)\n",
    "\n",
    "        self.groups = groups\n",
    "        self.layer_per_group = layer_per_group\n",
    "\n",
    "        self.res_fcs = nn.ModuleList(\n",
    "            [nn.ModuleList([nn.Linear(hidden_dim, hidden_dim) for _ in range(self.layer_per_group)]) for _ in range(self.groups)]\n",
    "        )\n",
    "\n",
    "        self.fc = nn.Linear(hidden_dim, 2)\n",
    "        if activation == \"relu\":\n",
    "            self.activation = Func.relu\n",
    "        elif activation == \"relu3\":\n",
    "            self.activation = lambda x: Func.relu(x**3)\n",
    "        elif activation == \"elu\":\n",
    "            self.activation = Func.elu\n",
    "        elif activation == \"tanh\":\n",
    "            self.activation = torch.tanh\n",
    "        else:\n",
    "            raise Exception(f\"Can't recognize activation {activation}!\")\n",
    "\n",
    "    def forward(self, x):\n",
    "        # take logarithm of the first two inputs (spot and strike)\n",
    "        x = x.clone()  # still need to clone to avoid in-place ops on input\n",
    "        x[:, 0].log_()\n",
    "        x[:, 1].log_()\n",
    "        z = self.activation(self.preprocess(x))\n",
    "        for group in self.res_fcs:\n",
    "            z_id = z\n",
    "            for i, layer in enumerate(group):  # type: ignore\n",
    "                z = layer(z)\n",
    "                if i < len(group) - 1:  # type: ignore\n",
    "                    z = self.activation(layer(z))\n",
    "            z = self.activation(z_id + z)\n",
    "        y = self.fc(z)\n",
    "        # take exp on first output and sigmoid on second output\n",
    "        y[:, 0] = torch.exp(y[:, 0])\n",
    "        # y[:, 1] = torch.sigmoid(y[:, 1])\n",
    "        y[:, 1] = 1 / (1 + torch.exp(-y[:, 1]))\n",
    "        return y\n",
    "\n",
    "    def dof(self) -> int:\n",
    "        count = 0\n",
    "        for param in self.parameters():\n",
    "            count += np.prod(param.size())\n",
    "        return count  # type:ignore\n"
   ]
  },
  {
   "cell_type": "code",
   "execution_count": 160,
   "id": "1299ff23",
   "metadata": {},
   "outputs": [],
   "source": [
    "net = BSNet(input_dim=5, hidden_dim=64, activation=\"elu\", groups=3, layer_per_group=3)"
   ]
  },
  {
   "cell_type": "code",
   "execution_count": 162,
   "id": "dd7112c2",
   "metadata": {},
   "outputs": [
    {
     "name": "stdout",
     "output_type": "stream",
     "text": [
      "Epoch [1/2000], Train Loss: 1.875484, Test Loss: 0.189281, Time: 0.81s\n"
     ]
    },
    {
     "ename": "KeyboardInterrupt",
     "evalue": "",
     "output_type": "error",
     "traceback": [
      "\u001b[31m---------------------------------------------------------------------------\u001b[39m",
      "\u001b[31mKeyboardInterrupt\u001b[39m                         Traceback (most recent call last)",
      "\u001b[36mCell\u001b[39m\u001b[36m \u001b[39m\u001b[32mIn[162]\u001b[39m\u001b[32m, line 42\u001b[39m\n\u001b[32m     39\u001b[39m targets = y_train[start_idx:end_idx]\n\u001b[32m     41\u001b[39m optimizer.zero_grad()\n\u001b[32m---> \u001b[39m\u001b[32m42\u001b[39m outputs = \u001b[43mnet\u001b[49m\u001b[43m(\u001b[49m\u001b[43minputs\u001b[49m\u001b[43m)\u001b[49m\n\u001b[32m     43\u001b[39m loss = criterion(outputs, targets)\n\u001b[32m     44\u001b[39m loss.backward()\n",
      "\u001b[36mFile \u001b[39m\u001b[32m/opt/conda/lib/python3.11/site-packages/torch/nn/modules/module.py:1773\u001b[39m, in \u001b[36mModule._wrapped_call_impl\u001b[39m\u001b[34m(self, *args, **kwargs)\u001b[39m\n\u001b[32m   1771\u001b[39m     \u001b[38;5;28;01mreturn\u001b[39;00m \u001b[38;5;28mself\u001b[39m._compiled_call_impl(*args, **kwargs)  \u001b[38;5;66;03m# type: ignore[misc]\u001b[39;00m\n\u001b[32m   1772\u001b[39m \u001b[38;5;28;01melse\u001b[39;00m:\n\u001b[32m-> \u001b[39m\u001b[32m1773\u001b[39m     \u001b[38;5;28;01mreturn\u001b[39;00m \u001b[38;5;28;43mself\u001b[39;49m\u001b[43m.\u001b[49m\u001b[43m_call_impl\u001b[49m\u001b[43m(\u001b[49m\u001b[43m*\u001b[49m\u001b[43margs\u001b[49m\u001b[43m,\u001b[49m\u001b[43m \u001b[49m\u001b[43m*\u001b[49m\u001b[43m*\u001b[49m\u001b[43mkwargs\u001b[49m\u001b[43m)\u001b[49m\n",
      "\u001b[36mFile \u001b[39m\u001b[32m/opt/conda/lib/python3.11/site-packages/torch/nn/modules/module.py:1784\u001b[39m, in \u001b[36mModule._call_impl\u001b[39m\u001b[34m(self, *args, **kwargs)\u001b[39m\n\u001b[32m   1779\u001b[39m \u001b[38;5;66;03m# If we don't have any hooks, we want to skip the rest of the logic in\u001b[39;00m\n\u001b[32m   1780\u001b[39m \u001b[38;5;66;03m# this function, and just call forward.\u001b[39;00m\n\u001b[32m   1781\u001b[39m \u001b[38;5;28;01mif\u001b[39;00m \u001b[38;5;129;01mnot\u001b[39;00m (\u001b[38;5;28mself\u001b[39m._backward_hooks \u001b[38;5;129;01mor\u001b[39;00m \u001b[38;5;28mself\u001b[39m._backward_pre_hooks \u001b[38;5;129;01mor\u001b[39;00m \u001b[38;5;28mself\u001b[39m._forward_hooks \u001b[38;5;129;01mor\u001b[39;00m \u001b[38;5;28mself\u001b[39m._forward_pre_hooks\n\u001b[32m   1782\u001b[39m         \u001b[38;5;129;01mor\u001b[39;00m _global_backward_pre_hooks \u001b[38;5;129;01mor\u001b[39;00m _global_backward_hooks\n\u001b[32m   1783\u001b[39m         \u001b[38;5;129;01mor\u001b[39;00m _global_forward_hooks \u001b[38;5;129;01mor\u001b[39;00m _global_forward_pre_hooks):\n\u001b[32m-> \u001b[39m\u001b[32m1784\u001b[39m     \u001b[38;5;28;01mreturn\u001b[39;00m \u001b[43mforward_call\u001b[49m\u001b[43m(\u001b[49m\u001b[43m*\u001b[49m\u001b[43margs\u001b[49m\u001b[43m,\u001b[49m\u001b[43m \u001b[49m\u001b[43m*\u001b[49m\u001b[43m*\u001b[49m\u001b[43mkwargs\u001b[49m\u001b[43m)\u001b[49m\n\u001b[32m   1786\u001b[39m result = \u001b[38;5;28;01mNone\u001b[39;00m\n\u001b[32m   1787\u001b[39m called_always_called_hooks = \u001b[38;5;28mset\u001b[39m()\n",
      "\u001b[36mCell\u001b[39m\u001b[36m \u001b[39m\u001b[32mIn[159]\u001b[39m\u001b[32m, line 44\u001b[39m, in \u001b[36mBSNet.forward\u001b[39m\u001b[34m(self, x)\u001b[39m\n\u001b[32m     42\u001b[39m         z = layer(z)\n\u001b[32m     43\u001b[39m         \u001b[38;5;28;01mif\u001b[39;00m i < \u001b[38;5;28mlen\u001b[39m(group) - \u001b[32m1\u001b[39m:  \u001b[38;5;66;03m# type: ignore\u001b[39;00m\n\u001b[32m---> \u001b[39m\u001b[32m44\u001b[39m             z = \u001b[38;5;28;43mself\u001b[39;49m\u001b[43m.\u001b[49m\u001b[43mactivation\u001b[49m\u001b[43m(\u001b[49m\u001b[43mlayer\u001b[49m\u001b[43m(\u001b[49m\u001b[43mz\u001b[49m\u001b[43m)\u001b[49m\u001b[43m)\u001b[49m\n\u001b[32m     45\u001b[39m     z = \u001b[38;5;28mself\u001b[39m.activation(z_id + z)\n\u001b[32m     46\u001b[39m y = \u001b[38;5;28mself\u001b[39m.fc(z)\n",
      "\u001b[36mFile \u001b[39m\u001b[32m/opt/conda/lib/python3.11/site-packages/torch/nn/functional.py:1803\u001b[39m, in \u001b[36melu\u001b[39m\u001b[34m(input, alpha, inplace)\u001b[39m\n\u001b[32m   1801\u001b[39m     result = torch._C._nn.elu_(\u001b[38;5;28minput\u001b[39m, alpha)\n\u001b[32m   1802\u001b[39m \u001b[38;5;28;01melse\u001b[39;00m:\n\u001b[32m-> \u001b[39m\u001b[32m1803\u001b[39m     result = \u001b[43mtorch\u001b[49m\u001b[43m.\u001b[49m\u001b[43m_C\u001b[49m\u001b[43m.\u001b[49m\u001b[43m_nn\u001b[49m\u001b[43m.\u001b[49m\u001b[43melu\u001b[49m\u001b[43m(\u001b[49m\u001b[38;5;28;43minput\u001b[39;49m\u001b[43m,\u001b[49m\u001b[43m \u001b[49m\u001b[43malpha\u001b[49m\u001b[43m)\u001b[49m\n\u001b[32m   1804\u001b[39m \u001b[38;5;28;01mreturn\u001b[39;00m result\n",
      "\u001b[31mKeyboardInterrupt\u001b[39m: "
     ]
    }
   ],
   "source": [
    "# initialize net and use adam optimizer to train the net on (X_train, y_train), and evaludate performance on (X_test, y_test)\n",
    "import torch.optim as optim\n",
    "import time\n",
    "\n",
    "optimizer = optim.Adam(net.parameters(), lr=1e-3)\n",
    "# criterion = nn.MSELoss()\n",
    "\n",
    "# customize the loss function so that \n",
    "# 1. the price is compared to the spot and calcuate the log distance\n",
    "# 2. the delta is calcualted after transforming by log (t/(1-t))\n",
    "def criterion(y_pred, y_true):\n",
    "    price_pred, delta_pred = y_pred[:, 0], y_pred[:, 1]\n",
    "    price_true, delta_true = y_true[:, 0], y_true[:, 1]\n",
    "\n",
    "    price_loss = torch.mean((torch.log(price_pred + 1e-8) - torch.log(price_true + 1e-8))**2)\n",
    "    safe_lower, safe_upper = 1e-6, 1-1e-6\n",
    "    delta_pred = torch.clamp(delta_pred, safe_lower, safe_upper)\n",
    "    delta_true = torch.clamp(delta_true, safe_lower, safe_upper)\n",
    "    delta_loss = torch.mean((torch.log(delta_pred / (1 - delta_pred) ) - torch.log(delta_true / (1 - delta_true) ))**2)\n",
    "\n",
    "    return price_loss + delta_loss\n",
    "\n",
    "num_epochs = 2000\n",
    "batch_size = 1024\n",
    "num_batches = X_train.size(0) // batch_size\n",
    "# how to use tensorboard to visualize the training process\n",
    "from torch.utils.tensorboard import SummaryWriter\n",
    "\n",
    "writer = SummaryWriter()\n",
    "\n",
    "for epoch in range(num_epochs):\n",
    "    net.train()\n",
    "    epoch_loss = 0.0\n",
    "    start_time = time.time()\n",
    "    for i in range(num_batches):\n",
    "        start_idx = i * batch_size\n",
    "        end_idx = start_idx + batch_size\n",
    "        inputs = X_train[start_idx:end_idx]\n",
    "        targets = y_train[start_idx:end_idx]\n",
    "\n",
    "        optimizer.zero_grad()\n",
    "        outputs = net(inputs)\n",
    "        loss = criterion(outputs, targets)\n",
    "        loss.backward()\n",
    "        optimizer.step()\n",
    "\n",
    "        epoch_loss += loss.item()\n",
    "\n",
    "    epoch_loss /= num_batches\n",
    "\n",
    "    net.eval()\n",
    "    with torch.no_grad():\n",
    "        test_outputs = net(X_test)\n",
    "        test_loss = criterion(test_outputs, y_test).item()\n",
    "\n",
    "    elapsed_time = time.time() - start_time\n",
    "    writer.add_scalar('Loss/Train', epoch_loss, epoch)\n",
    "    writer.add_scalar('Loss/Test', test_loss, epoch)\n",
    "    # also add memory usage\n",
    "    writer.add_scalar('Memory/Allocated', torch.cuda.memory_allocated() / (1024 * 1024), epoch)\n",
    "    writer.add_scalar('Memory/Cached', torch.cuda.memory_reserved() / (1024 * 1024), epoch)\n",
    "\n",
    "    if np.isnan(epoch_loss) or np.isinf(epoch_loss):\n",
    "        print(\"Loss is NaN or Inf, stopping training.\")\n",
    "        break\n",
    "\n",
    "    if (epoch + 1) % 100 == 0 or epoch == 0:\n",
    "        print(f'Epoch [{epoch + 1}/{num_epochs}], Train Loss: {epoch_loss:.6f}, Test Loss: {test_loss:.6f}, Time: {elapsed_time:.2f}s')"
   ]
  },
  {
   "cell_type": "code",
   "execution_count": 163,
   "id": "8daba338",
   "metadata": {},
   "outputs": [
    {
     "data": {
      "image/png": "[encoded data removed]",
      "text/plain": [
       "<Figure size 640x480 with 1 Axes>"
      ]
     },
     "metadata": {},
     "output_type": "display_data"
    }
   ],
   "source": [
    "# visualize the predicted price by setting strike=10, r=0.01, sigma=0.2, T=1, and varying spot from 1 to 20\n",
    "import matplotlib.pyplot as plt\n",
    "\n",
    "S = np.linspace(1, 20, 100)\n",
    "K = 10 + 0 * S\n",
    "r = 0.01 + 0 * S\n",
    "sigma = 0.2 + 0 * S\n",
    "T = 1 + 0 * S\n",
    "\n",
    "y_bs = bs_euro_vanilla_call(S, K, T, r, sigma)\n",
    "y_net = net(torch.tensor(np.stack([S, K * np.ones_like(S), T * np.ones_like(S), r * np.ones_like(S), sigma * np.ones_like(S)], axis=1), dtype=torch.float32)).detach().numpy()[:, 0]\n",
    "plt.plot(S, y_bs, label=\"BS\")\n",
    "plt.plot(S, y_net, label=\"NN\")\n",
    "plt.xlabel(\"Spot Price\")\n",
    "plt.ylabel(\"Call Option Price\")\n",
    "plt.title(\"Call Option Price vs Spot Price\")\n",
    "plt.legend()\n",
    "plt.grid()\n",
    "plt.show()"
   ]
  },
  {
   "cell_type": "code",
   "execution_count": 164,
   "id": "418eb62e",
   "metadata": {},
   "outputs": [
    {
     "data": {
      "image/png": "[encoded data removed]",
      "text/plain": [
       "<Figure size 640x480 with 1 Axes>"
      ]
     },
     "metadata": {},
     "output_type": "display_data"
    }
   ],
   "source": [
    "# visualize the predicted price by setting strike=10, r=0.01, sigma=0.2, T=1, and varying spot from 1 to 20\n",
    "import matplotlib.pyplot as plt\n",
    "\n",
    "S = np.linspace(1, 20, 100)\n",
    "K = 10 + 0 * S\n",
    "r = 0.01 + 0 * S\n",
    "sigma = 0.2 + 0 * S\n",
    "T = 1 + 0 * S\n",
    "\n",
    "y_bs = delta_hedge_bs_euro_vanilla_call(S, K, T, r, sigma)\n",
    "y_net = net(torch.tensor(np.stack([S, K * np.ones_like(S), T * np.ones_like(S), r * np.ones_like(S), sigma * np.ones_like(S)], axis=1), dtype=torch.float32)).detach().numpy()[:, 1]\n",
    "plt.plot(S, y_bs, label=\"BS\")\n",
    "plt.plot(S, y_net, label=\"NN\")\n",
    "plt.xlabel(\"Spot Price\")\n",
    "plt.ylabel(\"Call Option Delta\")\n",
    "plt.title(\"Call Option Price vs Spot Price\")\n",
    "plt.legend()\n",
    "plt.grid()\n",
    "plt.show()"
   ]
  },
  {
   "cell_type": "code",
   "execution_count": null,
   "id": "27a1aa8c",
   "metadata": {},
   "outputs": [],
   "source": []
  }
 ],
 "metadata": {
  "kernelspec": {
   "display_name": "base",
   "language": "python",
   "name": "python3"
  },
  "language_info": {
   "codemirror_mode": {
    "name": "ipython",
    "version": 3
   },
   "file_extension": ".py",
   "mimetype": "text/x-python",
   "name": "python",
   "nbconvert_exporter": "python",
   "pygments_lexer": "ipython3",
   "version": "3.11.13"
  }
 },
 "nbformat": 4,
 "nbformat_minor": 5
}
